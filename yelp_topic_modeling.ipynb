{
  "nbformat": 4,
  "nbformat_minor": 0,
  "metadata": {
    "colab": {
      "name": "yelp_topic_modeling.ipynb",
      "provenance": [],
      "collapsed_sections": [],
      "include_colab_link": true
    },
    "kernelspec": {
      "name": "python3",
      "display_name": "Python 3"
    }
  },
  "cells": [
    {
      "cell_type": "markdown",
      "metadata": {
        "id": "view-in-github",
        "colab_type": "text"
      },
      "source": [
        "<a href=\"https://colab.research.google.com/github/jxb5778/AmazonCustomerReviews/blob/master/yelp_topic_modeling.ipynb\" target=\"_parent\"><img src=\"https://colab.research.google.com/assets/colab-badge.svg\" alt=\"Open In Colab\"/></a>"
      ]
    },
    {
      "cell_type": "code",
      "metadata": {
        "id": "4kJhVOHyL_kW",
        "colab_type": "code",
        "outputId": "a39ee036-a934-47fd-884e-f899bff3defa",
        "colab": {
          "base_uri": "https://localhost:8080/",
          "height": 68
        }
      },
      "source": [
        "!apt-get install openjdk-8-jdk-headless -qq > /dev/null\n",
        "!wget -q http://www-eu.apache.org/dist/spark/spark-2.4.4/spark-2.4.4-bin-hadoop2.7.tgz\n",
        "!tar xf spark-2.4.4-bin-hadoop2.7.tgz\n",
        "!pip install -q findspark\n",
        "!pip install -q pyspark"
      ],
      "execution_count": 0,
      "outputs": [
        {
          "output_type": "stream",
          "text": [
            "\u001b[K     |████████████████████████████████| 215.7MB 55kB/s \n",
            "\u001b[K     |████████████████████████████████| 204kB 48.5MB/s \n",
            "\u001b[?25h  Building wheel for pyspark (setup.py) ... \u001b[?25l\u001b[?25hdone\n"
          ],
          "name": "stdout"
        }
      ]
    },
    {
      "cell_type": "code",
      "metadata": {
        "id": "p0qryXaOMMWD",
        "colab_type": "code",
        "colab": {}
      },
      "source": [
        "import os\n",
        "import findspark\n",
        "\n",
        "\n",
        "os.environ[\"JAVA_HOME\"] = \"/usr/lib/jvm/java-8-openjdk-amd64\"\n",
        "os.environ[\"SPARK_HOME\"] = \"/content/spark-2.4.4-bin-hadoop2.7\""
      ],
      "execution_count": 0,
      "outputs": []
    },
    {
      "cell_type": "code",
      "metadata": {
        "id": "Fn6qjt4YMVwu",
        "colab_type": "code",
        "outputId": "55fab2b1-3139-4a3d-f8d2-f8d955643605",
        "colab": {
          "base_uri": "https://localhost:8080/",
          "height": 122
        }
      },
      "source": [
        "from google.colab import drive\n",
        "drive.mount('/content/drive')"
      ],
      "execution_count": 0,
      "outputs": [
        {
          "output_type": "stream",
          "text": [
            "Go to this URL in a browser: https://accounts.google.com/o/oauth2/auth?client_id=947318989803-6bn6qk8qdgf4n4g3pfee6491hc0brc4i.apps.googleusercontent.com&redirect_uri=urn%3aietf%3awg%3aoauth%3a2.0%3aoob&response_type=code&scope=email%20https%3a%2f%2fwww.googleapis.com%2fauth%2fdocs.test%20https%3a%2f%2fwww.googleapis.com%2fauth%2fdrive%20https%3a%2f%2fwww.googleapis.com%2fauth%2fdrive.photos.readonly%20https%3a%2f%2fwww.googleapis.com%2fauth%2fpeopleapi.readonly\n",
            "\n",
            "Enter your authorization code:\n",
            "··········\n",
            "Mounted at /content/drive\n"
          ],
          "name": "stdout"
        }
      ]
    },
    {
      "cell_type": "code",
      "metadata": {
        "id": "iuj-AReVNG7k",
        "colab_type": "code",
        "colab": {}
      },
      "source": [
        "from pyspark.sql import SparkSession\n",
        "\n",
        "from pyspark.sql import SparkSession, Row, types\n",
        "\n",
        "from pyspark.ml import Pipeline\n",
        "\n",
        "from pyspark.ml.feature import RegexTokenizer, StopWordsRemover, CountVectorizer, IDF\n",
        "\n",
        "from pyspark.ml.clustering import LDA\n",
        "\n",
        "import matplotlib.pyplot as plt"
      ],
      "execution_count": 0,
      "outputs": []
    },
    {
      "cell_type": "code",
      "metadata": {
        "id": "jAFTtVhdM8MQ",
        "colab_type": "code",
        "colab": {}
      },
      "source": [
        "def start_spark_session():\n",
        "\n",
        "  findspark.init(\"spark-2.4.4-bin-hadoop2.7\")# SPARK_HOME\n",
        "  spark = SparkSession.builder.master(\"local\").appName(\"topic modeling\").getOrCreate()\n",
        "  sc = spark.sparkContext\n",
        "  sc.setLogLevel('ERROR')\n",
        "\n",
        "  return spark, sc\n",
        "\n",
        "\n",
        "def build_pipeline(input_col, num_topics):\n",
        "\n",
        "    tokenizer = RegexTokenizer(inputCol=input_col, outputCol=\"words\")\n",
        "\n",
        "    stopRemover = StopWordsRemover(inputCol=tokenizer.getOutputCol(), outputCol=\"stop_removed\")\n",
        "\n",
        "    countVectorizer = CountVectorizer(inputCol=stopRemover.getOutputCol(), outputCol=\"term_freq\", minDF=10, maxDF=0.85, vocabSize=50000) \n",
        "\n",
        "    idf = IDF(inputCol=countVectorizer.getOutputCol(), outputCol=\"features\")\n",
        "\n",
        "    lda = LDA(k=num_topics, maxIter=10)\n",
        "\n",
        "    pipeline = Pipeline(stages=[tokenizer, stopRemover, countVectorizer, idf, lda])\n",
        "\n",
        "    return pipeline\n",
        "\n",
        "\n",
        "def run_model_evaluation(num_topic_list, data, input_col):\n",
        "\n",
        "    grid_search_results = dict()\n",
        "    best_perplexity = None\n",
        "    best_k = 0\n",
        "\n",
        "    for num_topics in num_topic_list:\n",
        "\n",
        "      print(\"Fitting pipeline, num topics: \", num_topics)\n",
        "      test_pipeline = build_pipeline(input_col, num_topics)\n",
        "      test_model = test_pipeline.fit(data)\n",
        "\n",
        "      print(\"Transforming data...\")\n",
        "      test_transform = test_model.transform(data)\n",
        "      test_transform.cache()\n",
        "\n",
        "      test_perplexity = test_model.stages[-1].logPerplexity(test_transform)\n",
        "      grid_search_results[num_topics] = test_perplexity\n",
        "\n",
        "      if best_perplexity is None:\n",
        "        best_perplexity = test_perplexity\n",
        "        best_k = num_topics\n",
        "\n",
        "      elif test_perplexity < best_perplexity:\n",
        "        best_perplexity = test_perplexity\n",
        "        best_k = num_topics\n",
        "\n",
        "    best_model = build_pipeline(input_col, best_k)\n",
        "\n",
        "    return best_model, grid_search_results\n",
        "\n",
        "\n",
        "def display_topics(model):\n",
        "\n",
        "    topics = model.stages[-1].describeTopics(10)\n",
        "    vocabulary = model.stages[-3].vocabulary\n",
        "\n",
        "    print(\"The topics described by their top-weighted terms:\")\n",
        "    \n",
        "    topics.show(truncate=False)\n",
        "\n",
        "    counter = 0\n",
        "\n",
        "    for topic in topics.collect():\n",
        "        counter += 1  \n",
        "        print('topic: ' + str(counter))\n",
        "        words = topic.termIndices\n",
        "        weights = topic.termWeights\n",
        "        for n, word in enumerate(words):\n",
        "            try:\n",
        "                print(str(vocabulary[words[n]]) + ' ' + str(weights[n]))\n",
        "            except UnicodeEncodeError:\n",
        "                print(\"Error encoding word...\")\n",
        "    return\n"
      ],
      "execution_count": 0,
      "outputs": []
    },
    {
      "cell_type": "code",
      "metadata": {
        "id": "AXQX7XYnNCRA",
        "colab_type": "code",
        "colab": {}
      },
      "source": [
        "spark, sc = start_spark_session()"
      ],
      "execution_count": 0,
      "outputs": []
    },
    {
      "cell_type": "code",
      "metadata": {
        "id": "hFwY2F9nRccU",
        "colab_type": "code",
        "outputId": "7cf12bcb-d7e4-4483-d20b-dc3c038bf11e",
        "colab": {
          "base_uri": "https://localhost:8080/",
          "height": 54
        }
      },
      "source": [
        "\n",
        "user_df = spark.read.json('/content/drive/My Drive/data/yelp/yelp_academic_dataset_user.json')\n",
        "\n",
        "user_df.cache()\n"
      ],
      "execution_count": 0,
      "outputs": [
        {
          "output_type": "execute_result",
          "data": {
            "text/plain": [
              "DataFrame[average_stars: double, compliment_cool: bigint, compliment_cute: bigint, compliment_funny: bigint, compliment_hot: bigint, compliment_list: bigint, compliment_more: bigint, compliment_note: bigint, compliment_photos: bigint, compliment_plain: bigint, compliment_profile: bigint, compliment_writer: bigint, cool: bigint, elite: string, fans: bigint, friends: string, funny: bigint, name: string, review_count: bigint, useful: bigint, user_id: string, yelping_since: string]"
            ]
          },
          "metadata": {
            "tags": []
          },
          "execution_count": 7
        }
      ]
    },
    {
      "cell_type": "code",
      "metadata": {
        "id": "GgJMwZzhSAAY",
        "colab_type": "code",
        "colab": {}
      },
      "source": [
        "\n",
        "column_name = 'review_count'\n",
        "column_data = user_df.filter(user_df[column_name] > 20).select(column_name).rdd.flatMap(lambda x: x)\n",
        "column_data.cache()\n",
        "\n",
        "bins, counts = column_data.histogram(20)\n",
        "\n",
        "print(\"Count Users: {}\".format(column_data.count()))\n",
        "print(\"Count Reviews: {}\".format(column_data.sum()))\n",
        "print(\"Mean: {}\".format(column_data.mean()))\n",
        "print(\"Standard Deviation: {}\".format(column_data.stdev()))\n",
        "\n",
        "plt.hist(bins[:-1], bins=bins, weights=counts)"
      ],
      "execution_count": 0,
      "outputs": []
    },
    {
      "cell_type": "code",
      "metadata": {
        "id": "j-Ry7UjYd_da",
        "colab_type": "code",
        "outputId": "c4a13c29-a8b4-4595-b524-cf4b98cd3e88",
        "colab": {
          "base_uri": "https://localhost:8080/",
          "height": 54
        }
      },
      "source": [
        "review_df = spark.read.json('/content/drive/My Drive/data/yelp/yelp_academic_dataset_review.json')\n",
        "\n",
        "review_df.cache()\n",
        "\n",
        "print(review_df.dtypes)"
      ],
      "execution_count": 0,
      "outputs": [
        {
          "output_type": "stream",
          "text": [
            "[('business_id', 'string'), ('cool', 'bigint'), ('date', 'string'), ('funny', 'bigint'), ('review_id', 'string'), ('stars', 'double'), ('text', 'string'), ('useful', 'bigint'), ('user_id', 'string')]\n"
          ],
          "name": "stdout"
        }
      ]
    },
    {
      "cell_type": "code",
      "metadata": {
        "id": "qVOlfmgKeZvZ",
        "colab_type": "code",
        "colab": {}
      },
      "source": [
        "\n",
        "column_name = 'funny'\n",
        "\n",
        "column_data = review_df.filter(review_df[column_name] > -1).select(column_name).rdd.flatMap(lambda x: x)\n",
        "column_data.cache()\n",
        "\n",
        "print(\"Count Reviews: {}\".format(column_data.count()))\n",
        "print(\"Mean: {}\".format(column_data.mean()))\n",
        "print(\"Standard Deviation: {}\".format(column_data.stdev()))\n",
        "\n",
        "bins, counts = column_data.histogram(20)\n",
        "plt.hist(bins[:-1], bins=bins, weights=counts)"
      ],
      "execution_count": 0,
      "outputs": []
    },
    {
      "cell_type": "code",
      "metadata": {
        "id": "BtUXdrQGYc8W",
        "colab_type": "code",
        "outputId": "db0a0e55-d3c1-41db-bd88-780ba75a701d",
        "colab": {
          "base_uri": "https://localhost:8080/",
          "height": 54
        }
      },
      "source": [
        "\n",
        "filtered_user_df = user_df.filter(user_df['review_count'] > 20)\n",
        "\n",
        "filtered_review_df = review_df.join(filtered_user_df, on='user_id')\n",
        "filtered_review_df.cache()\n"
      ],
      "execution_count": 0,
      "outputs": [
        {
          "output_type": "execute_result",
          "data": {
            "text/plain": [
              "DataFrame[user_id: string, business_id: string, cool: bigint, date: string, funny: bigint, review_id: string, stars: double, text: string, useful: bigint, average_stars: double, compliment_cool: bigint, compliment_cute: bigint, compliment_funny: bigint, compliment_hot: bigint, compliment_list: bigint, compliment_more: bigint, compliment_note: bigint, compliment_photos: bigint, compliment_plain: bigint, compliment_profile: bigint, compliment_writer: bigint, cool: bigint, elite: string, fans: bigint, friends: string, funny: bigint, name: string, review_count: bigint, useful: bigint, yelping_since: string]"
            ]
          },
          "metadata": {
            "tags": []
          },
          "execution_count": 9
        }
      ]
    },
    {
      "cell_type": "code",
      "metadata": {
        "id": "rSnkWqF6ZMjM",
        "colab_type": "code",
        "outputId": "4816fbca-e885-40f9-e186-e9d83a391007",
        "colab": {
          "base_uri": "https://localhost:8080/",
          "height": 34
        }
      },
      "source": [
        "column_data = filtered_review_df.select('user_id').rdd.flatMap(lambda x: x)\n",
        "column_data.cache()\n",
        "\n",
        "print(\"Count Reviews: {}\".format(column_data.count()))"
      ],
      "execution_count": 0,
      "outputs": [
        {
          "output_type": "stream",
          "text": [
            "Count Reviews: 3569896\n"
          ],
          "name": "stdout"
        }
      ]
    },
    {
      "cell_type": "code",
      "metadata": {
        "id": "Rq7vLmn1m4Zd",
        "colab_type": "code",
        "outputId": "ba627b22-73be-4dd9-9b96-f05fac5d3f19",
        "colab": {
          "base_uri": "https://localhost:8080/",
          "height": 452
        }
      },
      "source": [
        "column_name = 'stars'\n",
        "column_data = filtered_review_df.select(column_name).rdd.flatMap(lambda x: x)\n",
        "column_data.cache()\n",
        "\n",
        "bins, counts = column_data.histogram(20)\n",
        "\n",
        "print(\"Count Users: {}\".format(column_data.count()))\n",
        "print(\"Count Reviews: {}\".format(column_data.sum()))\n",
        "print(\"Mean: {}\".format(column_data.mean()))\n",
        "print(\"Standard Deviation: {}\".format(column_data.stdev()))\n",
        "\n",
        "plt.hist(bins[:-1], bins=bins, weights=counts)"
      ],
      "execution_count": 0,
      "outputs": [
        {
          "output_type": "stream",
          "text": [
            "Count Users: 3569896\n",
            "Count Reviews: 13430237.0\n",
            "Mean: 3.762080744088904\n",
            "Standard Deviation: 1.2825336075518585\n"
          ],
          "name": "stdout"
        },
        {
          "output_type": "execute_result",
          "data": {
            "text/plain": [
              "(array([ 327897.,       0.,       0.,       0.,       0.,  313084.,\n",
              "              0.,       0.,       0.,       0.,  555125.,       0.,\n",
              "              0.,       0.,       0., 1058153.,       0.,       0.,\n",
              "              0., 1315637.]),\n",
              " array([1. , 1.2, 1.4, 1.6, 1.8, 2. , 2.2, 2.4, 2.6, 2.8, 3. , 3.2, 3.4,\n",
              "        3.6, 3.8, 4. , 4.2, 4.4, 4.6, 4.8, 5. ]),\n",
              " <a list of 20 Patch objects>)"
            ]
          },
          "metadata": {
            "tags": []
          },
          "execution_count": 12
        },
        {
          "output_type": "display_data",
          "data": {
            "image/png": "[encoded data removed]",
            "text/plain": [
              "<Figure size 432x288 with 1 Axes>"
            ]
          },
          "metadata": {
            "tags": []
          }
        }
      ]
    },
    {
      "cell_type": "code",
      "metadata": {
        "id": "dM20WFx3oc5I",
        "colab_type": "code",
        "outputId": "b358f319-40f7-471e-97ce-a46ce63da1f3",
        "colab": {
          "base_uri": "https://localhost:8080/",
          "height": 54
        }
      },
      "source": [
        "positive_review_df = filtered_review_df.filter(filtered_review_df['stars'] > 3)\n",
        "positive_review_df.cache()\n",
        "\n",
        "negative_review_df = filtered_review_df.filter(filtered_review_df['stars'] < 3)\n",
        "negative_review_df = negative_review_df.sample(False, 0.15, 42)\n",
        "negative_review_df.cache()"
      ],
      "execution_count": 0,
      "outputs": [
        {
          "output_type": "execute_result",
          "data": {
            "text/plain": [
              "DataFrame[user_id: string, business_id: string, cool: bigint, date: string, funny: bigint, review_id: string, stars: double, text: string, useful: bigint, average_stars: double, compliment_cool: bigint, compliment_cute: bigint, compliment_funny: bigint, compliment_hot: bigint, compliment_list: bigint, compliment_more: bigint, compliment_note: bigint, compliment_photos: bigint, compliment_plain: bigint, compliment_profile: bigint, compliment_writer: bigint, cool: bigint, elite: string, fans: bigint, friends: string, funny: bigint, name: string, review_count: bigint, useful: bigint, yelping_since: string]"
            ]
          },
          "metadata": {
            "tags": []
          },
          "execution_count": 19
        }
      ]
    },
    {
      "cell_type": "code",
      "metadata": {
        "id": "BiJPWO8B8KrX",
        "colab_type": "code",
        "outputId": "16f058a3-1924-4283-c347-7b2a6341a507",
        "colab": {
          "base_uri": "https://localhost:8080/",
          "height": 34
        }
      },
      "source": [
        "\n",
        "best_model, grid_search_results = run_model_evaluation(\n",
        "    num_topic_list=[5, 10, 15, 25], \n",
        "    data=positive_review_df, \n",
        "    input_col='text'\n",
        "    )\n"
      ],
      "execution_count": 0,
      "outputs": [
        {
          "output_type": "stream",
          "text": [
            "Fitting pipeline, num topics:  5\n"
          ],
          "name": "stdout"
        }
      ]
    },
    {
      "cell_type": "code",
      "metadata": {
        "id": "wL7GgtDgGFsG",
        "colab_type": "code",
        "outputId": "9c18147f-ff58-46d2-ff7d-7bb322af3b89",
        "colab": {
          "base_uri": "https://localhost:8080/",
          "height": 51
        }
      },
      "source": [
        "best_model, grid_search_results = run_model_evaluation(\n",
        "    num_topic_list=[5, 10, 15, 25], \n",
        "    data=negative_review_df, \n",
        "    input_col='text'\n",
        "    )"
      ],
      "execution_count": 0,
      "outputs": [
        {
          "output_type": "stream",
          "text": [
            "Fitting pipeline, num topics:  5\n",
            "Transforming data...\n"
          ],
          "name": "stdout"
        }
      ]
    },
    {
      "cell_type": "code",
      "metadata": {
        "id": "65YyHSQ2PzQ6",
        "colab_type": "code",
        "outputId": "57635f55-72fe-443c-c2f3-8716f62a3dfc",
        "colab": {
          "base_uri": "https://localhost:8080/",
          "height": 34
        }
      },
      "source": [
        "print(\"Fitting pipeline\")\n",
        "pipeline = build_pipeline('text', 4)\n",
        "model = pipeline.fit(negative_review_df)"
      ],
      "execution_count": 0,
      "outputs": [
        {
          "output_type": "stream",
          "text": [
            "Fitting pipeline\n"
          ],
          "name": "stdout"
        }
      ]
    },
    {
      "cell_type": "code",
      "metadata": {
        "id": "om9u41pwQKZE",
        "colab_type": "code",
        "outputId": "889a178b-a4cf-47ae-bc44-19692de3ce6f",
        "colab": {
          "base_uri": "https://localhost:8080/",
          "height": 51
        }
      },
      "source": [
        "print(\"Transforming data...\")\n",
        "transform_df = model.transform(negative_review_df)\n",
        "transform_df.cache()\n",
        "\n",
        "perplexity = model.stages[-1].logPerplexity(transform_df)\n",
        "print(\"Model perplexity: {}\".format(perplexity))"
      ],
      "execution_count": 0,
      "outputs": [
        {
          "output_type": "stream",
          "text": [
            "Transforming data...\n",
            "Model perplexity: 9.043763783442708\n"
          ],
          "name": "stdout"
        }
      ]
    },
    {
      "cell_type": "code",
      "metadata": {
        "id": "hh5WQ_WODFod",
        "colab_type": "code",
        "outputId": "90c9d9e8-cf9d-4602-9c4b-eff3f50fffbb",
        "colab": {
          "base_uri": "https://localhost:8080/",
          "height": 955
        }
      },
      "source": [
        "display_topics(model)"
      ],
      "execution_count": 0,
      "outputs": [
        {
          "output_type": "stream",
          "text": [
            "The topics described by their top-weighted terms:\n",
            "+-----+---------------------------------------+------------------------------------------------------------------------------------------------------------------------------------------------------------------------------------------------------------------------------------+\n",
            "|topic|termIndices                            |termWeights                                                                                                                                                                                                                         |\n",
            "+-----+---------------------------------------+------------------------------------------------------------------------------------------------------------------------------------------------------------------------------------------------------------------------------------+\n",
            "|0    |[138, 2, 18, 17, 0, 4, 49, 10, 174, 13]|[0.0027252350137657445, 0.0026498808296808512, 0.002152806307960596, 0.0020906442284138087, 0.0020149535699130394, 0.0019181255401389129, 0.001777252721954793, 0.0017343637874024196, 0.0016767801358186125, 0.0016156527037237249]|\n",
            "|1    |[2, 17, 44, 18, 0, 10, 3, 12, 13, 4]   |[0.002841715930562494, 0.002397580469168433, 0.002229923728203355, 0.002067577446235569, 0.0019488895898908628, 0.0019197953024750326, 0.0018930516843175603, 0.0018912336493635469, 0.001853595466222328, 0.00185138579732113]     |\n",
            "|2    |[60, 12, 16, 1, 19, 6, 9, 17, 184, 3]  |[0.0023966733383537072, 0.002229529975193474, 0.002117452372184711, 0.0021007991025623098, 0.0019791489410186337, 0.0017272980720018415, 0.0016493670632695232, 0.0016411150438841637, 0.0016311135315235004, 0.0016055896541471674]|\n",
            "|3    |[1, 19, 16, 3, 9, 6, 54, 21, 136, 14]  |[0.0021173974463225475, 0.002018551603407775, 0.001990224541387155, 0.0019263881015969763, 0.0018848557584204757, 0.0018189089699899167, 0.0017222286234927643, 0.0017101289588753164, 0.0016874503346320717, 0.0016738567846695614]|\n",
            "+-----+---------------------------------------+------------------------------------------------------------------------------------------------------------------------------------------------------------------------------------------------------------------------------------+\n",
            "\n",
            "topic: 1\n",
            "pizza 0.0027252350137657445\n",
            "food 0.0026498808296808512\n",
            "ordered 0.002152806307960596\n",
            "- 0.0020906442284138087\n",
            "like 0.0020149535699130394\n",
            "place 0.0019181255401389129\n",
            "restaurant 0.001777252721954793\n",
            "good 0.0017343637874024196\n",
            "salad 0.0016767801358186125\n",
            "really 0.0016156527037237249\n",
            "topic: 2\n",
            "food 0.002841715930562494\n",
            "- 0.002397580469168433\n",
            "chicken 0.002229923728203355\n",
            "ordered 0.002067577446235569\n",
            "like 0.0019488895898908628\n",
            "good 0.0019197953024750326\n",
            "one 0.0018930516843175603\n",
            "us 0.0018912336493635469\n",
            "really 0.001853595466222328\n",
            "place 0.00185138579732113\n",
            "topic: 3\n",
            "room 0.0023966733383537072\n",
            "us 0.002229529975193474\n",
            "said 0.002117452372184711\n",
            "get 0.0021007991025623098\n",
            "told 0.0019791489410186337\n",
            "time 0.0017272980720018415\n",
            "back 0.0016493670632695232\n",
            "- 0.0016411150438841637\n",
            "hotel 0.0016311135315235004\n",
            "one 0.0016055896541471674\n",
            "topic: 4\n",
            "get 0.0021173974463225475\n",
            "told 0.002018551603407775\n",
            "said 0.001990224541387155\n",
            "one 0.0019263881015969763\n",
            "back 0.0018848557584204757\n",
            "time 0.0018189089699899167\n",
            "customer 0.0017222286234927643\n",
            "asked 0.0017101289588753164\n",
            "store 0.0016874503346320717\n",
            "never 0.0016738567846695614\n"
          ],
          "name": "stdout"
        }
      ]
    },
    {
      "cell_type": "code",
      "metadata": {
        "id": "73vqQ7Pellf1",
        "colab_type": "code",
        "outputId": "3b95350c-3b87-43c6-e237-0faaea3db04e",
        "colab": {
          "base_uri": "https://localhost:8080/",
          "height": 530
        }
      },
      "source": [
        "transform_df.show()"
      ],
      "execution_count": 0,
      "outputs": [
        {
          "output_type": "stream",
          "text": [
            "+--------------------+--------------------+----+-------------------+-----+--------------------+-----+--------------------+------+-------------+---------------+---------------+----------------+--------------+---------------+---------------+---------------+-----------------+----------------+------------------+-----------------+-----+--------------------+----+--------------------+-----+-----------+------------+------+-------------------+--------------------+--------------------+--------------------+--------------------+--------------------+\n",
            "|             user_id|         business_id|cool|               date|funny|           review_id|stars|                text|useful|average_stars|compliment_cool|compliment_cute|compliment_funny|compliment_hot|compliment_list|compliment_more|compliment_note|compliment_photos|compliment_plain|compliment_profile|compliment_writer| cool|               elite|fans|             friends|funny|       name|review_count|useful|      yelping_since|               words|        stop_removed|           term_freq|            features|   topicDistribution|\n",
            "+--------------------+--------------------+----+-------------------+-----+--------------------+-----+--------------------+------+-------------+---------------+---------------+----------------+--------------+---------------+---------------+---------------+-----------------+----------------+------------------+-----------------+-----+--------------------+----+--------------------+-----+-----------+------------+------+-------------------+--------------------+--------------------+--------------------+--------------------+--------------------+\n",
            "|-9da1xk7zgnnfO1uT...|ANHCo9X7zu0LdYecc...|   9|2015-03-23 03:34:11|    8|i5BCOllxJ0RY3aHFt...|  2.0|After taking a re...|     7|          4.1|           6016|             57|            6016|          3444|              5|             87|            955|             3731|            2307|               149|              937|13647|2012,2013,2014,20...| 205|Xfyd_R5t0nfUrJc4-...|10064|       Fran|        1085| 14824|2012-04-05 01:01:05|[after, taking, a...|[taking, red, eye...|(32008,[1,2,4,10,...|(32008,[1,2,4,10,...|[5.05260020910382...|\n",
            "|-GKEFg_92pp0q842c...|ZsMO1gdH1s0hIlEZ6...|   0|2014-01-27 14:48:04|    0|jpOfyfdSnkUWyFzn1...|  2.0|When you fly Virg...|     0|          3.9|              8|              0|               8|             4|              0|              3|              5|                1|              18|                 3|                7|  129| 2012,2013,2014,2015|  18|qlC607Cyp0Mj91vDF...|  185|       Jeff|         314|   377|2011-07-18 20:16:27|[when, you, fly, ...|[fly, virgin, ame...|(32008,[3,13,79,2...|(32008,[3,13,79,2...|[0.00216630384671...|\n",
            "|-LFUxu48rLMWmOVN2...|riHlPwsqP6eZka_Ti...|   0|2018-08-28 08:49:31|    0|NCh68Nz7nN06M8-rz...|  2.0|This place has th...|     0|         3.55|              1|              0|               1|             0|              0|              0|              0|                0|               0|                 0|                1|    4|                    |   0|OArCfinvaQJ--aDcC...|    3|    Miranda|          32|     8|2017-06-13 16:28:49|[this, place, has...|[place, look, it....|(32008,[2,4,7,14,...|(32008,[2,4,7,14,...|[0.00179028635175...|\n",
            "|-NnADpikTs6IWM9tb...|xULATz2siGXOPia61...|   0|2010-02-14 21:12:17|    0|DnVBuTZvcu-X4Q4c0...|  1.0|Blek! Not only di...|     3|         4.23|              1|              1|               1|             1|              0|              0|              0|                0|               1|                 0|                1|   21|                    |   3|J9vTI9wyDo0KD0GrM...|    5|     Carrie|          30|    68|2007-12-23 21:41:26|[blek!, not, only...|[blek!, server, t...|(32008,[0,1,4,5,8...|(32008,[0,1,4,5,8...|[0.63774403977631...|\n",
            "|-hnBzgVoRoqLrGVSx...|MKYcOZSpMwJK7uwac...|   0|2016-04-24 13:41:40|    0|9WRTjBHYIiwecJyzf...|  2.0|The idea is intri...|     1|         3.71|              0|              0|               0|             0|              0|              0|              4|                0|               0|                 0|                1|   17|                    |   0|EEWNb4RDVzaSm4K5S...|   35|     Afroza|         100|    77|2015-05-26 01:52:03|[the, idea, is, i...|[idea, intriguing...|(32008,[2,3,44,67...|(32008,[2,3,44,67...|[0.00193943126540...|\n",
            "|-vSUDEQB9j2DaP8_4...|VHomsKVp0SccinGIB...|   0|2018-07-14 01:03:24|    0|-OWqiz8RuIgAJ-B4M...|  1.0|Ruby Tuesday cont...|     1|         4.31|              2|              0|               2|             0|              0|              2|              2|                3|               4|                 0|                3|   97|                2018|   6|5uDs3OcZj4afW7rlv...|   62|     Marisa|          84|   129|2017-05-17 19:35:45|[ruby, tuesday, c...|[ruby, tuesday, c...|(32008,[3,6,8,9,1...|(32008,[3,6,8,9,1...|[0.50436794014705...|\n",
            "|0-UxxxWLz1muOzPx2...|uJe6qjWPRMgR7QIyZ...|   0|2014-03-31 04:29:35|    0|jmHygy-sJSWVLZipH...|  2.0|We hit Pinnacle P...|     0|         3.09|              0|              0|               0|             0|              0|              0|              0|                1|               1|                 0|                0|    8|                    |   0|                None|   17|        Ron|          47|    66|2013-11-30 06:12:15|[we, hit, pinnacl...|[hit, pinnacle, p...|(32008,[0,6,7,8,9...|(32008,[0,6,7,8,9...|[0.40480738435285...|\n",
            "|0-UxxxWLz1muOzPx2...|IT0IODInyhKbG4a_k...|   0|2017-03-15 14:27:04|    0|NvpXEl3Nb9Dq-6T5O...|  1.0|I have been think...|     0|         3.09|              0|              0|               0|             0|              0|              0|              0|                1|               1|                 0|                0|    8|                    |   0|                None|   17|        Ron|          47|    66|2013-11-30 06:12:15|[i, have, been, t...|[thinking, writin...|(32008,[0,1,2,3,4...|(32008,[0,1,2,3,4...|[0.65667458440518...|\n",
            "|01HpNrCSLNWbQG9Fv...|ygjJmeiGoO--QpTqJ...|   0|2014-10-26 17:39:56|    1|YgkXEpGJoLpyFp9vg...|  1.0|Very disappointed...|     7|         4.54|              0|              0|               0|             0|              0|              1|              1|                2|               0|                 0|                0|    1|                    |   1|LdkRO8Nc9M5Fp_SP7...|    4|      Grace|          62|    12|2014-10-26 17:31:18|[very, disappoint...|[disappointed., u...|(32008,[1,3,9,14,...|(32008,[1,3,9,14,...|[0.11718146602244...|\n",
            "|02GRsrv1UsME7tVwF...|HV_rnmuixwb2z-nTu...|   0|2013-07-15 02:22:43|    1|76njLlYli9UGFEUGJ...|  1.0|Horrible experien...|     4|         2.44|              0|              0|               0|             0|              0|              0|              0|                0|               0|                 0|                0|    1|                    |   0|Pp_0zdsZnEeyodBy7...|    5|       Doug|          24|    22|2012-11-07 21:19:27|[horrible, experi...|[horrible, experi...|(32008,[2,5,24,35...|(32008,[2,5,24,35...|[0.00210703186444...|\n",
            "|02GRsrv1UsME7tVwF...|mNiTaVsGHwgjskE8Y...|   0|2012-11-07 21:47:33|    0|6o3UboZiSDEHttv5Q...|  2.0|Being new to town...|     0|         2.44|              0|              0|               0|             0|              0|              0|              0|                0|               0|                 0|                0|    1|                    |   0|Pp_0zdsZnEeyodBy7...|    5|       Doug|          24|    22|2012-11-07 21:19:27|[being, new, to, ...|[new, town,, some...|(32008,[2,4,5,7,8...|(32008,[2,4,5,7,8...|[0.04733994722310...|\n",
            "|0AlnetQ_-a4f7kY0S...|VIH-XvIPwAh3NqLmD...|   2|2014-05-30 00:19:22|    2|-euGF1NSVui1WJb1W...|  2.0|Hung over?  Need ...|     3|         3.78|            422|             50|             422|           637|             13|             40|             90|              102|             385|                39|              266| 2562|2010,2011,2012,20...| 111|d5_PiqEuAi_elLk0g...| 2623|      Susan|         599|  3567|2009-03-10 23:25:22|[hung, over?, nee...|[hung, over?, nee...|(32008,[0,11,25,3...|(32008,[0,11,25,3...|[0.67217719199910...|\n",
            "|0AlnetQ_-a4f7kY0S...|3j_mvJHnT7nJd7su_...|   3|2010-08-04 16:55:59|    4|OJKvWs2K07THXfro-...|  2.0|All I asked for w...|     7|         3.78|            422|             50|             422|           637|             13|             40|             90|              102|             385|                39|              266| 2562|2010,2011,2012,20...| 111|d5_PiqEuAi_elLk0g...| 2623|      Susan|         599|  3567|2009-03-10 23:25:22|[all, i, asked, f...|[asked, asian, fl...|(32008,[0,21,33,3...|(32008,[0,21,33,3...|[0.76157290771125...|\n",
            "|0dmMgfbP23TzB6jNq...|TwwMvP-1LEK9GMd5g...|   1|2016-10-11 21:59:40|    1|2K8rVDtOdSZO_qe4t...|  1.0|Disgusting. \n",
            "\n",
            "App...|     5|         3.19|              0|              0|               0|             1|              0|              1|              2|                0|               5|                 1|                3|   75|2014,2015,2016,20...|   5|SeplktdrPEfvXAA3y...|  178|      Marie|         132|   353|2011-02-27 21:16:02|[disgusting., app...|[disgusting., app...|(32008,[0,1,3,5,6...|(32008,[0,1,3,5,6...|[1.79478846325306...|\n",
            "|0qQXako5doigx3X7J...|nuhx24_a0iySSpAfQ...|   7|2009-09-12 10:55:54|   15|CzyhNxn33gV-fut0T...|  2.0|Okay,  this is go...|     8|         3.85|            204|              6|             204|           269|              3|             23|             54|                5|             118|                 3|               61| 1180|2008,2009,2010,20...|  30|E36-5ajM0ZxVAZdfI...| 1397|      Brice|         237|  1455|2008-02-01 07:30:53|[okay,, this, is,...|[okay,, gonna, so...|(32008,[4,6,9,11,...|(32008,[4,6,9,11,...|[3.65345568260134...|\n",
            "|16SAxHo7AeNZAakf4...|u6Eo7MaNpQgAuVAOA...|   1|2018-03-13 11:16:01|    0|3qTKT2B0UMpvY_A9Z...|  2.0|I rent a lot of c...|     0|         4.13|              0|              0|               0|             0|              0|              0|              0|                0|               1|                 0|                0|    4|                    |   0|                None|    2|      Jerry|          30|    25|2014-04-16 19:37:56|[i, rent, a, lot,...|[rent, lot, cars,...|(32008,[1,3,8,16,...|(32008,[1,3,8,16,...|[7.79204746122405...|\n",
            "|1Nh6uv4bOIuyT12TY...|tNeVg2xJ8A0gV-B79...|   0|2018-05-17 20:08:52|    0|Us-bdsKO99hTuvwTK...|  1.0|So, after Making ...|     0|         2.74|              0|              0|               0|             0|              0|              0|              3|                0|               2|                 0|                0|    6|                    |   1|Ih-AAWyhEld0OyOf_...|   19|Anna Nicole|          36|    31|2016-02-27 19:05:35|[so,, after, maki...|[so,, making, att...|(32008,[30,36,39,...|(32008,[30,36,39,...|[0.00226119462672...|\n",
            "|1Qo3Pw-XRPaaNfpGP...|UrhPr4uPoqKrYVANa...|   0|2017-06-09 00:59:35|    0|jE6rCGqD3oEByNHOn...|  1.0|Incredibly rude. ...|     0|         1.94|              0|              0|               0|             0|              0|              0|              2|                0|               3|                 0|                1|    7|                    |   0|                None|   44|    Heather|          66|   110|2012-12-27 03:28:17|[incredibly, rude...|[incredibly, rude...|(32008,[11,12,16,...|(32008,[11,12,16,...|[0.14252243950073...|\n",
            "|1Qo3Pw-XRPaaNfpGP...|H8qlBw1YaxMsItfz2...|   0|2014-09-13 23:56:33|    3|REzVCiWajyHjIdttX...|  1.0|Overpriced meh fo...|     3|         1.94|              0|              0|               0|             0|              0|              0|              2|                0|               3|                 0|                1|    7|                    |   0|                None|   44|    Heather|          66|   110|2012-12-27 03:28:17|[overpriced, meh,...|[overpriced, meh,...|(32008,[0,4,6,16,...|(32008,[0,4,6,16,...|[9.84409559869720...|\n",
            "|1Qo3Pw-XRPaaNfpGP...|s6NlcpD-dLM4U7Q1T...|   0|2014-08-02 03:20:03|    0|KwrU0Bn3YPF_or3cW...|  1.0|This location is ...|     0|         1.94|              0|              0|               0|             0|              0|              0|              2|                0|               3|                 0|                1|    7|                    |   0|                None|   44|    Heather|          66|   110|2012-12-27 03:28:17|[this, location, ...|[location, capabl...|(32008,[5,6,16,19...|(32008,[5,6,16,19...|[0.24283344300658...|\n",
            "+--------------------+--------------------+----+-------------------+-----+--------------------+-----+--------------------+------+-------------+---------------+---------------+----------------+--------------+---------------+---------------+---------------+-----------------+----------------+------------------+-----------------+-----+--------------------+----+--------------------+-----+-----------+------------+------+-------------------+--------------------+--------------------+--------------------+--------------------+--------------------+\n",
            "only showing top 20 rows\n",
            "\n"
          ],
          "name": "stdout"
        },
        {
          "output_type": "execute_result",
          "data": {
            "text/plain": [
              "Column<b'words'>"
            ]
          },
          "metadata": {
            "tags": []
          },
          "execution_count": 25
        }
      ]
    },
    {
      "cell_type": "code",
      "metadata": {
        "id": "SLEeb0w4mR7Z",
        "colab_type": "code",
        "outputId": "e680b511-2c90-4e92-b6f2-fc6e2d2e4f25",
        "colab": {
          "base_uri": "https://localhost:8080/",
          "height": 1000
        }
      },
      "source": [
        "from pyspark.sql import functions as F\n",
        "\n",
        "from pyspark.sql.types import DoubleType\n",
        "\n",
        "\n",
        "def _ith(v, i):\n",
        "    try:\n",
        "        return float(v[i])\n",
        "    except ValueError:\n",
        "        return None\n",
        "\n",
        "\n",
        "ith = F.udf(_ith, DoubleType())\n",
        "\n",
        "df = transform_df.select([\"text\"] + [ith(\"topicDistribution\", F.lit(i)).alias('topic_'+str(i)) for i in range(4)] )\n",
        "\n",
        "df.sort('topic_0', ascending=False).show(truncate=False)\n"
      ],
      "execution_count": 0,
      "outputs": [
        {
          "output_type": "stream",
          "text": [
            "+---------------------------------------------------------------------------------------------------------------------------------------------------------------------------------------------------------------------------------------------------------------------------------------------------------------------------------------------------------------------------------------------------------------------------------------------------------------------------------------------------------------------------------------------------------------------------------------------------------------------------------------------------------------------------------------------------------------------------------------------------------------------------------------------------------------------------------------------------------------------------------------------------------------------------------------------------------------------------------------------------------------------------------------------------------------------------------------------------------------------------------------------------------------------------------------------------------------------------------------------------------------------------------------------------------------------------------------------------------------------------------------------------------------------------------------------------------------------------------------------------------------------------------------------------------------------------------------------------------------------------------------------------------------------------------------------------------------------------------------------------------------------------------------------------------------------------------------------------------------------------------------------------------------------------------------------------------------------------------------------------------------------------------------------------------------------------------------------------------------------------------------------------------------------------------------------------------------------------------------------------------------------------------------------------------------------------------------------------------------------------------------------------------------------------------------------------------------------------------------------------------------------------------------------------------------------------------------------------------------------------------------------------------------------------------------------------------------------------------------------------------------------------------------------------------------------------------------------------------------------------------------------------------------------------------------------------------------------------------------------------------------------------------------------------------------------------------------------------------------------------------------------------------------------------------------------------------------------------------------------------------------------------------------------------------------------------------------------------------------------------------------------------------------------------------------------------------------------------------------------------------------------------------------------------------------------------------------------------------------------------------------------------------------------------------------------------------------------------------------------------------------------------------------------------------------------------------------------------------------------------------------------------------------------------------------------------------------------------------------------------------------------------------------------------------------------------------------------------------------------------------------------------------------------------------------------------------------------------------------------------------------------------------------------------------------------------------------------------------------------------------------------------------------------------------------------------------------------------------------------------------------------------------------------------------------------------------------------------------------------------------------------------------------------------------------------------------------------------------------------------------------------------------------------------------------------------------------------------------------------------------------------------------------------------------------------------------------------------+------------------+---------------------+---------------------+---------------------+\n",
            "|text                                                                                                                                                                                                                                                                                                                                                                                                                                                                                                                                                                                                                                                                                                                                                                                                                                                                                                                                                                                                                                                                                                                                                                                                                                                                                                                                                                                                                                                                                                                                                                                                                                                                                                                                                                                                                                                                                                                                                                                                                                                                                                                                                                                                                                                                                                                                                                                                                                                                                                                                                                                                                                                                                                                                                                                                                                                                                                                                                                                                                                                                                                                                                                                                                                                                                                                                                                                                                                                                                                                                                                                                                                                                                                                                                                                                                                                                                                                                                                                                                                                                                                                                                                                                                                                                                                                                                                                                                                                                                                                                                                                                                                                                                                                                                                                                                                                                                                                                                                       |topic_0           |topic_1              |topic_2              |topic_3              |\n",
            "+---------------------------------------------------------------------------------------------------------------------------------------------------------------------------------------------------------------------------------------------------------------------------------------------------------------------------------------------------------------------------------------------------------------------------------------------------------------------------------------------------------------------------------------------------------------------------------------------------------------------------------------------------------------------------------------------------------------------------------------------------------------------------------------------------------------------------------------------------------------------------------------------------------------------------------------------------------------------------------------------------------------------------------------------------------------------------------------------------------------------------------------------------------------------------------------------------------------------------------------------------------------------------------------------------------------------------------------------------------------------------------------------------------------------------------------------------------------------------------------------------------------------------------------------------------------------------------------------------------------------------------------------------------------------------------------------------------------------------------------------------------------------------------------------------------------------------------------------------------------------------------------------------------------------------------------------------------------------------------------------------------------------------------------------------------------------------------------------------------------------------------------------------------------------------------------------------------------------------------------------------------------------------------------------------------------------------------------------------------------------------------------------------------------------------------------------------------------------------------------------------------------------------------------------------------------------------------------------------------------------------------------------------------------------------------------------------------------------------------------------------------------------------------------------------------------------------------------------------------------------------------------------------------------------------------------------------------------------------------------------------------------------------------------------------------------------------------------------------------------------------------------------------------------------------------------------------------------------------------------------------------------------------------------------------------------------------------------------------------------------------------------------------------------------------------------------------------------------------------------------------------------------------------------------------------------------------------------------------------------------------------------------------------------------------------------------------------------------------------------------------------------------------------------------------------------------------------------------------------------------------------------------------------------------------------------------------------------------------------------------------------------------------------------------------------------------------------------------------------------------------------------------------------------------------------------------------------------------------------------------------------------------------------------------------------------------------------------------------------------------------------------------------------------------------------------------------------------------------------------------------------------------------------------------------------------------------------------------------------------------------------------------------------------------------------------------------------------------------------------------------------------------------------------------------------------------------------------------------------------------------------------------------------------------------------------------------------------------------+------------------+---------------------+---------------------+---------------------+\n",
            "|I rarely do Yelp reviews for two reasons: 1. I tend to write a LOT and 2. About 80% of the time, my thoughts are already portrayed by other Yelpers... but after eating here today, I felt like I really needed to share my experience. \n",
            "\n",
            "First off, the restaurant has 4.5 stars - so my expectations were high. I am also a generally laid back person when it comes to critiquing food because I can be easy to please. As long as it tastes good, I am a happy lady... unfortunately, I really wanted to like this place but was disappointed. \n",
            "\n",
            "When my coworker and I walked in, it was a little bit after lunch time. It was our first time here so we were unsure of whether we should seat ourselves or be seated by a staff member. We walked pass the smaller dining room and went to the bar area. No staff was present as we stood around for a while... we would have just sat down at the bar but nothing was cleared off and all the tables but 2 still had plates on them. We brushed this off as we assumed they probably had a rush during lunch. The server came out and told us to choose any of the 2 tables available. We looked through the menu and I got pretty excited at the different options available. I like how their menu has pictures on them with little descriptions. I also noticed the seat covers for the chairs made out of Thai/Laotian cloth and can appreciate the time it took to make those. \n",
            "\n",
            "For the appetizer, my coworker and I ordered the cream puffs. There were two - one was chicken and the second was taro. For us being the only people in the restaurant by now, the appetizer took about 30 minutes to come out. The taro puff was really big while the chicken puff was really small. The server told us that the chefs were making them fresh and when each were done, they both realized they were different sizes as they were having a competition on whose would taste better. I did not mind the fun they were having but I did wish that the chicken puff was at least a reasonable size to share, especially since there were only 2 and it cost $6.95. But hey, we went along with the show and the taste of the puffs were good. The crust was crispy like croissant dough and the seasoning in the chicken was balanced. The taro puff was also yummy but the taro filling tasted a bit grainy. Overall, both tasted good with the sauce which has fresh garnishing inside.\n",
            "\n",
            "For our entrees, I ordered the drunken noodles and my coworker ordered the pho. I will be honest and say we were both really disappointed in our dishes. I know this is a family restaurant who puts a lot of thought and pride into their food, but I did not feel like I was eating a Thai dish at all. The drunken noodles were thinner than the typical drunken noodles which are usually thick and fat. I ordered a level 4 for spiciness and the sauce was actually very sweet. I was hoping to have that burning sensation in my mouth but instead, it was just overly sweet and overly sauced. I ended up picking out the carrots, broccoli, green beans, and chicken out of the noodles to eat. I really tried to eat more but simply could not do it because of how sweet it was. The server came out to ask how the food tasted and I told him that it was sweet and not as spicy as I had hoped. He suggested that I put in the Thai chili pepper to make it spicier but at this point, I felt like it was pointless because the sweetness of the sauce had already coated my entire mouth. I ended up not packing any of it home and felt bad for wasting food but honestly could not see myself eating any more of it later.\n",
            "\n",
            "In comparison, my coworker had the beef pho.  She was super excited to dive into it as all the right toppings came out on a plate: the basil, jalepeno peppers, lime, etc. There were also the sauces on the side: thai chili pepper, garlic chili pepper, pickled jalepeno, and sugar. She let me try a taste of her broth and we both were surprised that for its nice color, the flavor really lacked depth. I make pho at home and it honestly reminded me a bit of the beef pho flavor paste that I add to boiling water when I am in a pinch to make \"lazy pho.\" I am not saying that is the case here and do not want to offend the chefs because I respect the time they put into making our food... but that's what the broth really reminded me of when I tried it. Regardless, my coworker was disappointed that there were no meatballs in the pho as well but hey, we should have read the description better. \n",
            "\n",
            "Overall, by the time we got our checks, we were both more than ready to leave. In general, the service was nice but does not make up for the food. I was hesitant to write this review because I know this is a family restaurant, but I hope this can be taken as critical feedback from a customer who genuinely really wanted to like it.|0.9995800780653686|1.4601683881001483E-4|1.336719839676489E-4 |1.4023311185377814E-4|\n",
            "|I don't get it.\n",
            "\n",
            "I thought I would love it, because many of the restaurants I enjoy most are built upon a philosophy of local, sustainable, and seasonal ingredients which are treated with the respect and care they deserve. All the recommendations I've had from my Cleveland friends told me that The Greenhouse was such a place, and one that rated visiting on one of my too-rare stops in Cleveland. Yet the experience was - and this is the only word to describe it - bizarre. \n",
            "\n",
            "Their rendition of a Cleveland standard, stuffed bacon-wrapped dates, was stellar, but from there the meal descended into chaos.  Was the Greenhouse was going for the 'greenest' of cuisine, minimalist dishes where the ingredients saw as little preparation as possible, or more of a stylized, structured 'haute' cuisine? We couldn't tell, and neither really worked. The appetizer of roasted peppers with smashed garlic was an example of the former - the two main ingredients were simply treated and mixed upon the plate, the garlic somewhat in and out of its paper, which stuck to the moist pepper skin, making for a ridiculous looking plate and an unpleasant eating experience.   The 'Mushroom Bear Claw' - a cinnamon bun like roll of mushrooms in puff pastry -- arrived looking stunning amidst the rich miso broth it sat upon. While the pastry was good and the stuffing tasty, the miso was both so acidic and so salty that it ruined the dish by overpowering the delicacy of the woodear mushroom filling.  A main course of white bean polenta, Lee Jones vegetables, and tofu occupied the opposite end of the spectrum - that food had been tortured into a structured submission by the chef:  the excellent seasonal vegetables had been tourned (properly, I should note), and placed next to tofu and a perfectly square polenta cake. The highly stylized dish was an odd followup to the minimalist pepper appetizer - and why, if you are showing off the quality of your ingredients, touting Chef's Garden as a supplier, would you tourne them?  The dish might have been fine were it not for the brine that the elements sat in. My date tried to eat just the top of the excellent polenta as that which had soaked up the extremely salty broth was inedible.  My entrée, the Duck Pasta, was supposed to be duck livers and craklins, roasted red onion, and local apples with a cavatelli-like pasta and toasted bread crumbs. The pasta arrived limp and overcooked, with none of the other ingredients discernable - supposedly they must have been the spaetzele-like brown crumbs that coated the pasta. Or was that the breadcrumbs? Or were they ground into the sauce on the pasta? We had no idea.  It seemed to be another rather stylized dish that might have been just sub par were it not for - again - an incredible amount of salt that rendered it truly unpleasant.. Unlike my date's main course, this could not be salvaged by selectively eating parts. After my date agreed, we asked for the check.\n",
            "\n",
            "Good points: Our server had an excellent (albeit slightly overzealous) knowledge of beer, and recommended to my date a selection that she really enjoyed. They also handled our dissatisfaction well, by removing some items from the bill and offering free desserts (which we declined, as we wanted to leave and find something else to eat).\n",
            "\n",
            "If I lived in Cleveland, I would go back again as our experience defies everything I have ever heard about the Greenhouse, but as a visitor who loves Cleveland's culinary scene, I'll be looking to other restaurants when I next return.                                                                                                                                                                                                                                                                                                                                                                                                                                                                                                                                                                                                                                                                                                                                                                                                                                                                                                                                                                                                                                                                                                                                                                                                                                                                                                  |0.9995023804834339|1.7321421715344538E-4|1.587305693134811E-4 |1.656747300991873E-4 |\n",
            "|If you see signs \"Do not eat the food while self serving\" everywhere in the buffet, what do you think of the place?\n",
            "\n",
            "This place is one of the most expensive buffet in Vegas, $44.99 when I was there Sat night. On the Rio's website, they are promoting an all-seafood buffet. You would think with this price, there are big lobster tails, fresh oysters, abalone salad, big crab legs, 4-5 kind of fishes, etc. Am I expecting too much?\n",
            "\n",
            "Guess what? Not only this is not an all -seafood buffet, this is one of the worst (if not the worst) buffter in Vegas!\n",
            "\n",
            "First of all, only less than half of the dishes contain seafood. The seafood they serve is the ordinary cheap stuff: medium size shrimp with shells, medium size crab legs, small clams and mussels. Oysters? dry and ugly. I would not eat them raw.\n",
            "\n",
            "Thinking about lobster tail? There is none. There are extra small crawfish (small as your thumb), and medium size crawfish tails cooked Chinese style (chopped in half vertically). I am very sure these so called \"lobster tails\" are crawfish as it is illegal to catch lobster in such small size.\n",
            "\n",
            "Interestingly, there is no tag on any dish indicating what it is. Does it indicate something?\n",
            "\n",
            "About 1/6 of the counter space is for Mexican food, actually looked OK, except nobody is there. Another 1/6 is dedicated to Italian with only shrimp as seafood. The Italian station looks so bad that no one is hardly there.\n",
            "\n",
            "The Chinese station? Oh man, the food looks like from the night before and no seafood there either. Some roast duck/chicken and some pork buns. Looks very dry due to \"aging\".\n",
            "\n",
            "Besids cold seafood (clams, mussel and oyster), most cooked seafood are havey breaded shrimp and  mussel. Nowhere near the quality from Bellagio's buffet.\n",
            "\n",
            "The prim rib? Looks extremely low quality and has funny looking color. No one was taking it on Saturday night. I was hoping enough people would take that prim rib so that I can see what the next piece would look like. No luck after an hour.\n",
            "\n",
            "They did not even have whole chicken or turkey in the carve station. Only fat chicken wings!\n",
            "\n",
            "The only bright spot is the grilled octopus. They are big and good. The source is also pretty tasty.\n",
            "\n",
            "The salad station is extremely small, next to the fruit station. The desert station is OK, with home made ice cream.\n",
            "\n",
            "In summary, this is a buffet which should be priced no more than $20. Their child pricing is only up to 8 yrs old ($25), which is strange also.\n",
            "\n",
            "My guess is their marketing trick is to lure you in just for once. This is first and last time I am in Rio.\n",
            "\n",
            "There are really only 3 buffet worthy to try in Vegas on the strip: (1) Bellagio's: cheaper at $36.99 on Sat, extremely high quality food, also very very good coffee; (2) Mandalay Bay's: about $30, quality is consistent, main stream stuff; (3) Wynn's: usually long lines and expensive, but food is in high quality.                                                                                                                                                                                                                                                                                                                                                                                                                                                                                                                                                                                                                                                                                                                                                                                                                                                                                                                                                                                                                                                                                                                                                                                                                                                                                                                                                                                                                                                                                                                                                                                                                                                                                                                                                                                                                                                                                                                                                                                       |0.9993702045447687|2.1941145433488745E-4|2.0132293968365777E-4|2.0906106121288504E-4|\n",
            "|I feel very conflicted writing this review. It's only my first time trying their food and I wanted very much to like them. Truth be told, I had attempted to place an order with Sakun Thai, but they told me I was too far from them to be within delivery range. I got off the phone with them, only to have them call me back and recommend that I try these guys since they were closer. It's quite an honor for one restaurant to recommend their competition, so I was willing to give them a try. \n",
            "\n",
            "Here's why I knock them stars; The food, while delivered quickly, was held in styrofoam containers with brittle plastic lids; lids which ended up breaking and contaminating our food. :{ It was well spiced and while the meat wasn't exceptionally tender, it wasn't leathery, either. We ordered four things, two of which had this problem [red chicken curry & tom kah gai soup].\n",
            "\n",
            "* Red Chicken Curry: Lots of bamboo shoots, chunks of chicken, bell pepper and the occasional bit of tomato. It was spicy but had the worst plastic contamination- we were only able to eat a small amount with very careful digging. When I called, they apologized and offered to make a new batch for us or give us a credit towards a future meal. I may take them up on it, but it will most likely be eaten inside the restaurant. \n",
            "\n",
            "* Tom Kah Gai soup: Chicken was noticeably tougher than in the curry. The soup had an interesting combination of flavors, but also had large inedible chunks of what I'm guessing were galangal- oh, and plastic. A decent portion of juicy mushrooms that looked yummy. Choking hazard a bummer, though.\n",
            "\n",
            "+ BBQ Thai Chicken: Really tender, juicy sliced chicken with the skin on. It seemed to be dark meat. The marinade had a good combination of aromatics that was accented by fresh cilantro. It came with a sweet chili dipping sauce on a bed of lettuce. One of the safe dishes and tasty. \n",
            "\n",
            "+ BBQ Pork Skewers: came 4 to an order, simple grilled pork that's coated in seasoning. It was tasty, but I doubt I'd order it again. \n",
            "\n",
            "Our overall total was $41-42. We've supposedly gotten credit towards a free dish, but we'll see how that pans out. The food arrived quickly and the cute delivery guy was very polite. It sounded like it might have been the same guy when I called about the broken lid and he seemed very upset and willing to make a new batch and bring it over right away, despite it being close to or after closing. \n",
            "\n",
            "Like I said; I really wanted to like this place. The service on the phone was handled well, the delivery was quick, the food tasted fine- but an error in the method of containment ruined the meal for us. I'd like to give them a second chance, but it will be inside the restaurant.                                                                                                                                                                                                                                                                                                                                                                                                                                                                                                                                                                                                                                                                                                                                                                                                                                                                                                                                                                                                                                                                                                                                                                                                                                                                                                                                                                                                                                                                                                                                                                                                                                                                                                                                                                                                                                                                                                                                                                                                                                                                                                                                                                      |0.9993342588207058|2.3045751816395244E-4|2.11345118280884E-4  |2.2393854284934734E-4|\n",
            "|Been here twice... Been disappointed twice... So this deserves twice the star.\n",
            "\n",
            "Sorry 'kababayan' ! I hope you can take this constructive feedback to become a better representation of our food. \n",
            "\n",
            "I can proudly say that I know Filipino food. I think I have some credentials. Being a Filipino and growing-up in Philippines surrounded by good and authentic Filipino food should give me enough basis for my feedback and critic.\n",
            "\n",
            "Let's start with the good. Place was clean and it did not have the oily and fishy smell of a usual Asian restaurant. Service was good. We were greeted as soon as we walked in. Food was also served quick and at the right temperature. The Halo-halo had a good balance of sweetness and creaminess. The Leche Flan on top of the Halo-halo had the firm and velvety like consistency that is common to a Filipino Leche Flan. The sweet Taro at the bottom gave the dessert a genuine Filipino flavor. Even the shaved ice is a positive. It is really easy to ruin a Halo-halo with brick like sizes of ice. The Sago't Gulaman was also really good. I got ahint of vanilla on every sweet sip and the jello had its own characterand flavor. The Tapioca balls was made the star of the drink with just the right bite but had the softness common to  a tapioca back home in the Philippines. \n",
            "\n",
            "Now the bad. It breaks my heart that I am criticizing a Filipino restaurant but I love Filipino food so much, I just want to make sure it is represented well.\n",
            "\n",
            "I would have wanted some water. I believe water should still be served even if our order had Halo-Halo and Sago't Gulaman. We also got a little bit of a funky smell on our Pancit Malabon (common to improperly stored rice noodles/sauce). Knowing what a really freshly cooked Pancit Malabon smells like, I just know that the sauce or the noodles on my order may have not been handled properly. Since I have already mentioned the Pancit Malabon, I might as well finish my review of the could have been noodle delight. The pancit flavor was very very very flat. It was very far from the layers of salty, sweet, garlicky, seafood umami flavor. I was saddened by the lack of seafood (got maybe 3-4 smal shrimps). The crunch from the pork rind was none existent. I was also looking for the smoked fish saltiness that makes Pancit Malabon a pancit from Malabon. \n",
            "\n",
            "I have tried their adobo and caldereta on my last visit. Both fell very short on flavor and character. A little more salt and pepper and maybe a lot more garlic might make difference. \n",
            "\n",
            "I've tried their Crispy Pata as well. Which I think was AWESOME! \n",
            "\n",
            "There are some goods, but I've had more bads during my previous visits. I just wish Filipino food can be represented a little better. I wish the layers of flavors and texture present in each bite of a Pinoy dish comes out the next time I visit the restaurant I have been trying to love.                                                                                                                                                                                                                                                                                                                                                                                                                                                                                                                                                                                                                                                                                                                                                                                                                                                                                                                                                                                                                                                                                                                                                                                                                                                                                                                                                                                                                                                                                                                                                                                                                                                                                                                                                                                                                                                                                                                                                                                                        |0.9993283283960512|2.348706076664573E-4 |2.1274997886268688E-4|2.2405101741953748E-4|\n",
            "|the rating is more like 2.5. oh this isn't a hate review. Read for details \n",
            "\n",
            "I guess this is family owned, and we went on a thursday afternoon and it was half full according to me for thursday lunch. She got a deal for this place (10 for 20 groupon) and that' why I went there, I generally tend to stay away from Asian Buffets, because \n",
            "1. they dont have many vegetarian options.\n",
            "2. They don't really differentiate much between vegetarian and meat, even when it comes to preparation, so don't be surprised if you see an occasional meat piece in your \"vegetarian food\".\n",
            "\n",
            "Like i said that is my general observation after being to several of these places. But let's see what's the story at this Thai Buffet \n",
            "\n",
            "Reason for the 2 stars ( or shud we say Pros)\n",
            "\n",
            "- Really Friendly people.  Both the old lady (cook?) and the teenage girl (server) were really friendly and tried their best to be personal. \n",
            "- Amazing desert (coconut sticky Rice?) check the pic\n",
            "- Trying to set up something of a different buffet for a change, I like the concept of a Thai buffet (which for people who don't know is way different from a regular Asian Buffet)\n",
            "\n",
            "Reason for the LACK of 3 stars ( cons, really)\n",
            "\n",
            "- No vegetarian options, absolutely NO Options. Oh the rice paper Vietnamese role counts, but does it entail the entire buffet? Thai food has so many lovely vegetarian options, but it was sad to see the place not even try to make a single entree. \n",
            "- I just feel there was one lady back there preparing everything on her own, so basically when she goes in, she comes back after 20-30 mins with a dish, all along people just wait for it, because the 1-2 dishes out here are empty, what kind of buffet does one havta wait? Eventually people just give up and leave, is this a strategy? Just saying!   \n",
            "- When I asked the old lady about it, she said she will make something but never came out or to me with it until I was done eating, guess she just wanted me to leave lol. \n",
            "- Finally when I asked again, the old lady came out with egg rolls and she told me the reason they were late was because she had put the 'frozen' egg rolls in the oven too long and a few parts were burnt so she cut them off and brought me the rest. I was like :| (Frozen, really? I could go to costco and buy them myself, whatever happened to making somethin? and really cut the burnt parts and bring me the rest?) \n",
            "- Oh they didnt even have a drink in the buffet, so basically I had nothing to eat & drink at all. \n",
            "\n",
            "Anyhow, I would love to come back and check it again in future, if they do make some changes about the cons above, & ofc if they have something veggie other than costco frozen rolls. \n",
            "\n",
            "But if not anything I just would love to come back and say hi to the wonderful people at Thai Buffet. Like I said, this was never a hate review, I just feel like there is tremendous potential for improvement to a lovely idea.                                                                                                                                                                                                                                                                                                                                                                                                                                                                                                                                                                                                                                                                                                                                                                                                                                                                                                                                                                                                                                                                                                                                                                                                                                                                                                                                                                                                                                                                                                                                                                                                                                                                                                                                                                                                                                                                                                                                                                                |0.9993269116685144|2.3299425736723526E-4|2.1546440322864002E-4|2.2462967088964495E-4|\n",
            "|This is 2 years later. Before you read my review I'd like to point out some things. I'm not a complainer, not hard to please, I'm very easy going, I don't think first impression is everything, I give multiple chances, and I'm so understanding. Even when I find hair in my food, I don't even complain or tell the server. Now that we got that out of the way and you know what type of consumer I am, lets continue with why I went from giving this place 5 stars to 2 stars. \n",
            "\n",
            "I had been going to goyemon for few years loyally since it first opened. Introduced multiple friends and family to trying there. My boyfriend and I ate here regularly, at least once a week and we always did AYCE, I did couple a la carte for lunch to go. Quality and cleanliness were over the top. Waiting up to an hour or more for dinner everytime was always worth it. The service was always so amazing. Until recently, I had a (new) server that got sassy with me one visit, didn't say anything. Went back couple more times after that and the service and food kept going down hill. Servers were not as attentive and it seems to be almost a new crew except for some that has been there awhile. One bus boy was awesome, don't know his name and the sushi chefs are cool too. Apri, the hostess is sweet. Other than those mentioned, None of the other servers have any personality. \n",
            "\n",
            "Last time my boyfriend and I ate here (which we almost went back for one last chance a week later but decided to go to our other favorite sushi place. More on that later) I was so disgusted by how dirty everything was and the quality of the food. The plate of wasabi and ginger had dried  up food still stuck on it (somehow, the server missed that putting wasabi and ginger on it). I scraped it off and let it go. More plates came with food, all the plates had dried up food still stuck on them. My beer glass had lip stains around the rim. I didn't say a damn thing about any of those dirty dishes. Food came, everything had smaller portions than before. All the nigiris had a tiny piece of fish on them. Amount of food from side dishes were cut in half. I get it, it's AYCE smaller the portion the more you can eat or less food you may waste. But what the restaurant started with and what people grew to love should be priority and that's the quality of the food, that went down hill. I'm so disappointed, I'd love to still go there but after all the past experiences the last few visits we won't be going back ever again. Umiya is closer and has always been our other favorite when goyemon is too busy or when we don't want to make the drive. The quality of the food is amazing. The servers actually have personality and actually acknowledge the fact that you're a regular. Way better vibe. \n",
            "\n",
            "So there is my first \"negative\" review. Management : whoever is running goyemon now needs to prioritize before you start losing more customers. Clean your dishes.                                                                                                                                                                                                                                                                                                                                                                                                                                                                                                                                                                                                                                                                                                                                                                                                                                                                                                                                                                                                                                                                                                                                                                                                                                                                                                                                                                                                                                                                                                                                                                                                                                                                                                                                                                                                                                                                                                                                               |0.9993016385387588|2.4250492484808648E-4|2.2299640079804044E-4|2.3286013559514147E-4|\n",
            "|I was able to visit this hipsterish wifi café on two separate occasions after reading so much about it on Yelp. The horizontal interior has good natural lighting, a front pastry counter, arrangement of tables and high chairs to the left, and a wine bar to the right. Noise level is high, and the clientele includes laptop dwellers, students, and group gatherings.\n",
            "\n",
            "Kale and Roasted Beets Salad ($9): A good serving of fresh kale, walnuts, goat cheese, roasted beets and red pepper vinaigrette. The composition was tasty, as the mix of creamy goat cheese, crunchy walnuts, fresh beets, and firm beets were delightful. I had this salad on both visits. Quality can be inconsistent between visits, as the kale was slightly yellow on the first try and overdressed and saltier yesterday. I'm likely to try the Quinoa Salad before coming back to order this dish again.\n",
            "\n",
            "Pear and Arugula Melt ($9): Flat bread layered with fresh pears, arugula, fontina cheese, and dressed with balsamic raspberry reduction. This item is no longer available on the menu, but the inconsistent firm and softness in the flat bread struggled, and the sour balsamic raspberry reduction didn't mix well with the pear. The café will jumpstart a new menu soon, so hopefully the flatbread will be much improved if it's scheduled for a return.\n",
            "\n",
            "Soy Dirty Chai Latte ($6.34): The latte was sweet with a solid hint of strong espresso and noticeable chai. The price was steep because they penalize diners for the use of soy--even though there is not a whole lot of differentiation to the cost of milk in the supermarket. This was one of the better dirty chai lattes, but also not worth the price.\n",
            "\n",
            "Green Peach Ice Tea ($2.50): The ice tea was light and refreshing. The mix of green tea and subtle peach flavor was nicely balanced. \n",
            "\n",
            "Service was personable but a bit snooty. They were very nice to let me sample the Garbanzo Soup and my drinks came out quickly. However, the password for their wifi was \"thankyou\" and my colleague and I were both offended by it. Overall, it was a pricy but convenient place for laptop users and group gatherings.  I'd be interested in coming back to see if their new menu will be any better.                                                                                                                                                                                                                                                                                                                                                                                                                                                                                                                                                                                                                                                                                                                                                                                                                                                                                                                                                                                                                                                                                                                                                                                                                                                                                                                                                                                                                                                                                                                                                                                                                                                                                                                                                                                                                                                                                                                                                                                                                                                                                                                                                                                                                                                                                                                                                                                                                                                                                                                                                                                                                                                                                                 |0.9992755863257603|2.5042452787592305E-4|2.2990576727609965E-4|2.4408337908781165E-4|\n",
            "|This place is conveniently located along King street among other popular spots. It leads to an underground hub but high enough so that natural sunlight is ample. My office decided to have a farewell lunch here for one of our coworkers. \n",
            "\n",
            "We arrived at around 12:30 and our seating was already waiting with cutlery laid out. We made a reservation beforehand. The restaurant was not busy at all. The staff were friendly in their greeting. We were given the menus however it was three menus for a table of nine. The waitress introduce herself and asked about allergies. \n",
            "\n",
            "The food took a long time to come out despite us ordering beforehand when we made the reservation. It was family style salad. An all green plate full of baby arugula, watercress and topped with chunks of walnut and shaved pear. It was dressed in an oily based dressing. It was alittle on the bitter side. Next came the bread. It was an assortment of three types of bread. My favourite was the herb one. It was served with chilli oil and a balsamic vinegrette that I couldn't stop licking off the bread. \n",
            "\n",
            "We also had the caprese style tomato and bocconcini cheese side. It was garnished with basil. I was sorely disappointed with the pizza. It reminded me of flatbread, cheese and tomato sauce baked on an ever so thin crust. I felt like I could have made the pizza myself and it would have turned out better. Some of it was also burnt. All the courses had the same flavour theme of cheese, tomato and salad and while one may like the compliments in taste, I did not. All the courses tasted similar. Therefore, the bread was what stood out which is weird considering that it was not the main. The espresso cinnamon gelato was so decant and yummy. One scoop was too little. It was the right hint of espresso. If you ever visit here, this is your best bet for dessert. \n",
            "\n",
            "They accept credit and debit cards.The family style lunch: vegetarian pizza, salad, cheese and tomato, side order of bread and one scoop of gelato costs each of us $16 per person. This is average in my opinion. \n",
            "\n",
            "Overall, I give two stars because of the ambience of this place. For a pizzaeria, I was disappointed with the pizza.                                                                                                                                                                                                                                                                                                                                                                                                                                                                                                                                                                                                                                                                                                                                                                                                                                                                                                                                                                                                                                                                                                                                                                                                                                                                                                                                                                                                                                                                                                                                                                                                                                                                                                                                                                                                                                                                                                                                                                                                                                                                                                                                                                                                                                                                                                                                                                                                                                                                                                                                                                                                                                                                                                                    |0.9992207685758062|2.732328331837993E-4 |2.47901901381216E-4  |2.5809668962876683E-4|\n",
            "|Hurry hurry hurry Hurry hurry hurry Hurry hurry hurry Hurry hurry hurry Hurry hurry hurry\n",
            "\n",
            "Lucinda and I walked in just after they opened so it wasn't busy.  I wanted to glance at the menu for a moment but they were in a tremendous hurry for us to place our order.\n",
            "\n",
            "Better know what you want in advance or stand back so they can't corral you into placing your order.  If you step up to read the menu they'll pounce.\n",
            "\n",
            "Large fries.\n",
            "\n",
            "We only have one size, do you want more than one?\n",
            "\n",
            "Well, how big is it?  \n",
            "\n",
            "Shouting in a very grating voice, the order taker repeated:  We only have one size, do you want more than one? \n",
            "\n",
            "She's very impatient, demanding an immediate answer.  I wanted to tell her:  Take a breath.  It's not busy yet.  Just relax and let us place our order. Allow me to ask a fucking question about the fries.\n",
            "\n",
            "\"I understand the concept of just one one size and I'm not hard of hearing.\"  She didn't respond. If a customer expresses displeasure just act like you didn't hear it. Since there is no way to gauge how many fries are in an order, we asked for two servings. \n",
            "\n",
            "One order is plenty, it turns out.  The fries were limp and saturated with stale grease.\n",
            "\n",
            "I asked for my double double with grilled onions.  The burgers came with no indication which had onions.  No onions.  Some fast food eateries will put a mark on the wrapping to let you know it has onions.  At In N Out it's part of the secret menu.  Whether you actually get onions when you want them is their secret.\n",
            "\n",
            "Everyone shouts here.  Very loud, hectic, and annoying.  Very unpleasant.  They're all hurry hurry, hurry hurry.  I could understand if it were busy but the store was practically empty.\n",
            "\n",
            "The burgers are just fair, no better than Burger King or Carl's Jr.  The \"cheese\" is not actual cheese but a glue-like product that sticks to your teeth & gums. \n",
            "\n",
            "You want bacon?  Forget bacon.  In N Out's secret of success is very limited choices.  And if they don't feel like it, you won't get one of the few choices they offer.\n",
            "\n",
            "I'll be in no hurry to return.                                                                                                                                                                                                                                                                                                                                                                                                                                                                                                                                                                                                                                                                                                                                                                                                                                                                                                                                                                                                                                                                                                                                                                                                                                                                                                                                                                                                                                                                                                                                                                                                                                                                                                                                                                                                                                                                                                                                                                                                                                                                                                                                                                                                                                                                                                                                                                                                                                                                                                                                                                                                                                                                                                                                                                                                                                                  |0.9991415698108089|2.975651197353579E-4 |2.743923532503885E-4 |2.8647271620544236E-4|\n",
            "|The first time we tried Lucky's was maybe six years ago. I didn't like it then. Hard to remember what we ordered, perhaps a Sicilian style, but either the crust or sauce or something else turned us off and we decided not to go back. Until a couple of weeks ago, when, having exhausted just about every other food place in Surprise two dozens times over, I came up with the jolly idea of getting us some Lucky's again based on all the good reviews. And I hated it just as much this time around as the first. UGH.\n",
            "\n",
            "The only positive thing I can say about this place is that they give you a ~monstrous~ amount of pizza. Imagine a large pizza box precisely filled with a giant square BRICK of a pizza, easily an inch and a half tall and cut into square slices. That's what we got. I'd say it was over 3 pounds of pizza; flavorless and gross. I found it breathtaking that it had that little taste. This was a supreme pizza that tasted through and through like I was eating play-doh. Olives, sauce, cheese, crust, the works. To top it off, the mushrooms were slimy, canned champignons and not fresh at all, and tasted as though they'd just been pulled out of someone's nose. I've had some pretty bad pizza in my time, most of them I'd liken to eating chewy, dry cardboard. This was the first one that was this big and relatively succulent and STILL tasted gross.\n",
            "\n",
            "I stomached maybe six slices over two sorry-ass sittings before throwing about 2/3 of the pizza away. Two pounds' worth of \"food\", down the sh1tter. I don't know where the mass delusion about this place comes from, but I'll never return. If I want a gutbuster special, especially now that Bronco Billy's is gone, I'll head to Rays just down the road instead. Plus, Lucky's is overpriced. A large and a smaller pizza cost us $30. Most of the smaller pizza was thrown away too - I didn't try any of that one so I'm not reviewing it, but the wife said she was incredibly unimpressed with it, and it was just a plain cheese. If it all tasted good it would have been worth it - I'd have paid that and more for a Chuck Wagon Special from Billy's - but the lack of flavour and value drops my rating of this joint to a bottom-of-the-barrel single star. And just for proverbials and giggles: http://www.maricopa.gov/envsvc/envwebapp/tabs/results.aspx?navigatedFrom=inspectionResultsDrillDownAA&permit=FD-05766&business=Lucky's%20Pizza&address=15508%20W%20Bell%20Rd%20Suite%20207&insp_id=3182324                                                                                                                                                                                                                                                                                                                                                                                                                                                                                                                                                                                                                                                                                                                                                                                                                                                                                                                                                                                                                                                                                                                                                                                                                                                                                                                                                                                                                                                                                                                                                                                                                                                                                                                                                                                                                                                                                                                                                                                                                                                                                                                                                                                                                                                                                                                                                                                                                                |0.999116602304779 |3.0804429575263207E-4|2.807340821511359E-4 |2.9461931731716466E-4|\n",
            "|Groupon: Fail. New York: Fail. Deli: Fail. I am pretty sure most New Yorkers would try this place an tell you to Fugeddaboutit and leave it at that but a yelper shares.\n",
            "\n",
            "I judge a deli on a few things: the meat, the bread, the sides. Being jewish and from the east coast I hold \"new york\" deli's to a higher standard and judge them on corned beef/pastrami, potato salad, rye bread and pickles. You get those right you have a happy camper, wrong and i'm cranky. I got the I Love New York which is Corned Beef and Pastrami with Swiss and spicy mustard on Rye, probably my favorite sandwich and potato salad anda  kosher pickle.\n",
            "\n",
            "Lets start with the main course it was fair and that is being very favorable. The meats were a bit overcooked but nice and hot and had decent flavored and the pastrami had a good amount of pepper to it (which i like). However it was very greasy and soaked the bread and made it slick...not good. The bread itself wasn't bad just generic rye you would buy on the shelf at any grocery. There also wasn't enough mustard on it or much meat probably double the bread to meat on a $9 sandwich. Compared to Chompies where its a nice thin slice of rye and piles of meat. Overall edible but not that enjoyable.\n",
            "\n",
            "Now the sides where I decided this place struck out like A-rod in the playoff's. I have never had potato salad that was so bland. I am normally not a huge fan of white potato salad but i do enjoy it. This was probably less exciting to my taste buds than a baked potato with no toppings. I tried dumping on pepper to no avail. Next was the pickle which was a whole \"kosher dill\" and from a new york deli i expect something a bit more more than vlassic out of a jar but that is exactly what i got.\n",
            "\n",
            "For the money (and for the record i spent $2 on the groupon) this place just doesn't cut the mustard (pun intended). Better options exists for this stuff like Chompies or Goldman's Deli up in scottsdale.                                                                                                                                                                                                                                                                                                                                                                                                                                                                                                                                                                                                                                                                                                                                                                                                                                                                                                                                                                                                                                                                                                                                                                                                                                                                                                                                                                                                                                                                                                                                                                                                                                                                                                                                                                                                                                                                                                                                                                                                                                                                                                                                                                                                                                                                                                                                                                                                                                                                                                                                                                                                                                                                                                                                                                                                                                                                                                                                                                 |0.9991038976204043|3.1334486307811344E-4|2.841026849536855E-4 |2.986548315640529E-4 |\n",
            "|I've got some serious attitude about this place. I felt just about indignant when my partner and I left there yesterday: this place is a slap in the face to the neighbourhood and probably the strongest example of a toxic business gentrifying the neighbourhood.\n",
            "\n",
            "First of all, we walked into a nearly empty restaurant on Monday evening and were snobbed for not having a reservation by a guy in nikes and track pants. Seriously, if you're going to be a condescending jerk to us, you might as well look professional. We were told (word for word) 'we have a place for people without reservations' and were escorted out of the restaurant, through what was referred to as the 'sketchy alleyway' (not funny guys, this is my neighbourhood) into what is, admitedly, a cute concrete backyard space. In the backyard there's service at the bar and you can only order salad, pizza, and desert, which was fine with us. In the process of ordering at the bar some dude stole our table who's drunk middle-aged pal later got in our faces for no good reason. None of this is the biggest deal, but given the consistently crappy attitude of the staff it left a feeling that this place is an overall gathering space for awful people.\n",
            "\n",
            "As another reviewer mentioned, they were not accomodating to a plant-based diet, whatsoever. I generally don't like to compare with professional experience, but I worked at reputable pizza places for years (one that charges even more for the pizza!) and never was there such an issue made over having the cheese on the side. Additionally the final product without cheese is a disgrace to the establishment; as it's been commented before, it's a hot cracker with tomato paste and (literally) four leaves of basil. \n",
            "\n",
            "The second star in this review is attributable to the wine- the orange wine we tasted was divine. I'm a big fan of natural wines and clearly these guys know what they're doing on that front. That being said, each glass of wine was the same price as our mediocre pizza. Ho-hum.\n",
            "\n",
            "Dear Elena, it's thin crust pizza being served in a concrete backyard in 2018. Get over yourselves.                                                                                                                                                                                                                                                                                                                                                                                                                                                                                                                                                                                                                                                                                                                                                                                                                                                                                                                                                                                                                                                                                                                                                                                                                                                                                                                                                                                                                                                                                                                                                                                                                                                                                                                                                                                                                                                                                                                                                                                                                                                                                                                                                                                                                                                                                                                                                                                                                                                                                                                                                                                                                                                                                                                                                                                  |0.999089917170473 |3.125088070953684E-4 |2.9218563709009805E-4|3.053883853414522E-4 |\n",
            "|Overall a big blech...  Is this is the best Korean food that Phoenix has to offer? No way.\n",
            "\n",
            "I grew up in L.A. and spent my childhood going to Koreatown and know the real deal when I see it AND taste it. This ain't it folks. \n",
            "\n",
            "Went there with the family on a Groupon - Initial impressions were not so good. The place looked semi-clean, and a young Korean couple next to us seemed to be picking at their food rather than eating it. So I asked them what they ordered and \"was the food good?\" and they sort of both rolled their eyes without much enthusiasm and the gentleman shook his head firmly side to side while looking down... not such a good omen right?\n",
            "\n",
            "Oh Boy.\n",
            "\n",
            "We ordered the Bulgogi, the spicy pork and the ribeye steak. The meats were generally fatty and not thinly sliced - they also did not taste like they had been well marinated (the Bulgogi). \n",
            "\n",
            "The Ribeye was leathery tough and super fatty (even for Ribeye) - the meats overall needed a good trimming before being brought to the table. I've had better meat at Sizzler. \n",
            "\n",
            "The side dishes were also just so-so, very one dimensional as other reviewers have pointed out. Really disappointing as the sides can be one of the best experiences at a good Korean BBQ in L.A. or San Francisco. Not here though.\n",
            "\n",
            "One concern was the \"tough as beef jerky\" Ribeye was served as whole steaks, and since there were no knives at the table for after the meat was cooked...we requested a serrated knife and fork. \n",
            "\n",
            "The waitress then suggested that \"why don't you just use that scissors\" as she pointed at the food scissors that she had previously used to cut some of the raw Bulgogi up before cooking. I responded by saying that \"that was used on raw meat - probably not a good idea,\" to which she giggled and smiled and went and brought something to cut up the jerky - er beef - with. \n",
            "\n",
            "Would we return here? Never. \n",
            "\n",
            "I will honestly be surprised if this place is open a year from now - Groupons won't be enough to save this place from mediocre food.                                                                                                                                                                                                                                                                                                                                                                                                                                                                                                                                                                                                                                                                                                                                                                                                                                                                                                                                                                                                                                                                                                                                                                                                                                                                                                                                                                                                                                                                                                                                                                                                                                                                                                                                                                                                                                                                                                                                                                                                                                                                                                                                                                                                                                                                                                                                                                                                                                                                                                                                                                                                                                                                                                                                                                                                                                                                                                |0.9990866778692503|3.173814044348574E-4 |2.9093973898647416E-4|3.0500098732844636E-4|\n",
            "|My \"foodie friend\" insisted I try this place and has been talking about it for a very long time! We went today. I had to park in the back which is surrounded by an unsavory residential area. So parking was my first concern. The restaurant inside was quaint and nice. For such a highly acclaimed restaurant, I wasn't at all impressed with the service. I was not greeted. Since I was meeting my friend, I decided to just look around myself. I understand that this is not an On The Border or \"traditional\" Mexican food as soon as I open the menu. Unfortunately, that's the kind of Mexican food that I like! No chips and salsa. Isn't that a staple at any Mexican restaurant? They served bread, which wasn't even good. Very basic bread like what you could purchase at Basha's and some type of chili/tomatoe spread. I skipped that. We ordered guacamole which was awesome. Too bad the chips they served were so dry and bland. Again, in my opinion the guacamole would have been so much better on the thin salty chips that I am used to! I was starving so I decided to get adventurous and order something that sounded somewhat familiar. I ordered what I thought would be a simple chicken enchilada. It was a mole sauce, which I had never tried before. Not a fan. I had just a couple bites. This \"mexican bitter chocolate\" sauce had no place on food at all, but I've heard a lot of great things about it, so maybe it's just my personal taste. My friend's pulled pork was delicious, had a couple bites of that. I've obviously realized by now that this is Mexico City type food and not traditional \"beans and rice, chips and salsa\" type food. The meal was served with a side of very soggy vegetables-again, not typical vegetables that you would even want to eat, so I didn't understand that either.Is this a side? Is it a garnish? Is this creative? What the F I am hungry!! I had a bite of what I think was zuchini. It was almost like they were soaked in oil and steamed. I would have loved to have spotted and better yet tasted anywhere in anything we ordered some cilantro, some green onion, but no such luck! Again, I realize that a lot of people probably love this restaurant. Just putting my review out there to help those who have not been be aware of what kind of experience they might have. I would never go there again.                                                                                                                                                                                                                                                                                                                                                                                                                                                                                                                                                                                                                                                                                                                                                                                                                                                                                                                                                                                                                                                                                                                                                                                                                                                                                                                                                                                                                                                                                                                                                                                                                                                                                                                                                                                                                                                                                                                                                                                                                                                                                                                                                                                                                                                                                                                                                                                                                                                                                                                                                                |0.9990686062128968|3.226014688922315E-4 |2.948515699424973E-4 |3.139407482685612E-4 |\n",
            "|We ordered take out for a Saturday night family meal and it was disappointing.  We ordered chili chicken with gravy (so sad), ho fun with beef (doh!), medium sized hot and sour soup (too sweet), chicken wing appetizer (sigh...) and garlic stir fried bok choy (yay!).  \n",
            "\n",
            "I've always been a HUGE fan of chili chicken but have yet to find a really good option outside the downtown core (Yeh Tung still gets my vote.  10/10!).  Hakka No. 1's version was served up with salty gravy and dried out chicken pieces that screamed, \"I've been pre-cooked and sitting out for a while before I was made into this dish.\" Comparing it to my most recent chili chicken pick up from Fredericks (6/10 for Ellesmere location), this version was a solid 2/10 in the not very enjoyable category.  \n",
            "\n",
            "Beef ho fun received a sesame seed \"bomb\" treatment and it was just too bland and lacked any real flavour.  The beef they used were too chewy and tough, it made me wonder which cuts of \"beef\" they were using in the dish.  (3/10)\n",
            "\n",
            "Hot and sour soup was so chunky which would normally not be a bad thing for me but this version had loads of imitation crab meat which made the soup sweeter than the way I like it.  (4/10)\n",
            "\n",
            "Chicken wing appetizer donned heavier than preferred amount of batter but was a ok.  (5/10)\n",
            "\n",
            "Garlic stir fried bok choy was the best dish of the night with over-blanched soft bok choy tips swimming in a garlicky stir fry sauce.  Normally, I prefer my veggies with more bite but for this dinner with the family (elderly and toddler), it was perfect.  The seasoning was spot on.  (8/10)\n",
            "\n",
            "I don't think I'd venture out to Hakka no. 1 again.  It was one of those, 'once was enough' experiences.  Oh yes, and all this came to $54 and they give 10% discount if you pay cash.                                                                                                                                                                                                                                                                                                                                                                                                                                                                                                                                                                                                                                                                                                                                                                                                                                                                                                                                                                                                                                                                                                                                                                                                                                                                                                                                                                                                                                                                                                                                                                                                                                                                                                                                                                                                                                                                                                                                                                                                                                                                                                                                                                                                                                                                                                                                                                                                                                                                                                                                                                                                                                                                                                                                                                                                                                                                                                                                                                                                                                                                                                                                        |0.9990557630384767|3.309602169530184E-4 |3.0078792134795643E-4|3.124888232223857E-4 |\n",
            "|It pains me to say this. Really, it does.\n",
            "\n",
            "I had been in love with this place since I went for my birthday two years ago. Frankly, something has changed here, and it is definitely not for the positive. The service is awful, and the food often deviates from what is described in the menu.\n",
            " \n",
            "After waiting over ten minutes to even be asked for our drinks and after I impatiently ushered the absent minded and forgetful waitress that we had been waiting for too long,  I ordered the salmon afficianto (sp) off their brunch menu and rather than being served a crisped potato pancake with mascarpone cheese, I was given a floppy eggy crepe like thing with a generous dollop of goat cheese (which I cannot stand the gamey taste of). \n",
            "\n",
            "The service is slow and actually quite frigid, I even caught one of the male waiters tying his shoelace atop the bar for any with a wavering eye to see.  Such a drastic change from the warm hellos and the personalized birthday card I received a few years back. I have also recently ordered the brownstone big breakfast and was sad to find that I was left unsatisfied and the portions quite small compared to how I remembered it last, for example 4 meagre slices of sausage vs what I recall as being a whole link. And they struck out 2 out of 3 for over cooked poached eggs, and I am one of those who is particular for well cooked eggs (I mean... when it comes to brunch/breakfast...terrible eggs = terrible start to the day, no?)\n",
            "\n",
            "As a brunch place, this bistro fails miserably. I would much rather go to 7 West,  Cora's for their similar options and pricing, or (gasp) good 'ole Frans... or even to the slightly skivvy Coach House down the street, if I don't want to pay extra for the snootiness. I feel like overall, this place has become yet another \"kitchy\" place for tourists to overspend. \n",
            "\n",
            "This, has been my final straw with this place. I will go back once the prices reflect what the customers are paying for, or if management changes.                                                                                                                                                                                                                                                                                                                                                                                                                                                                                                                                                                                                                                                                                                                                                                                                                                                                                                                                                                                                                                                                                                                                                                                                                                                                                                                                                                                                                                                                                                                                                                                                                                                                                                                                                                                                                                                                                                                                                                                                                                                                                                                                                                                                                                                                                                                                                                                                                                                                                                                                                                                                                                                                                                                                                                                                                                                                                                                       |0.9990403085903817|3.323284171087967E-4 |3.0601295961719537E-4|3.213500328923182E-4 |\n",
            "|OK,\n",
            "I heard so many good things about this place so I thought I would give it a try. I went there once brought the kids with me. They had the usual, chicken tenders and fries. They were pretty much the norm that I can find anyplace else. As long as the minions enjoy them, I am ok with it. \n",
            "\n",
            "I had the linguini with clams, it was ok. Nothing to make my eyes roll in the back of my head. The bread was very good though, I can say that. I could tell it was fresh baked.\n",
            "\n",
            "The service was ok, I don't remember her name but the waitress was Asian. She gave so so service, nothing more than she needed to.\n",
            "\n",
            "I decided to take the children there yesterday after the last day of school. It was busy for lunch. The busser sat us pretty quickly and got us drinks. Then we waited, and waited, for about 10 minutes until someone came by. It seemed like they forgot about us or something. The waitress came by and was apologetic and seemed almost overwhelmed because she was so busy.  The Iced tea I ordered tasted funny so I asked if I could get a soda instead. She was so busy, she forgot.\n",
            "I got my soda after a reminder.\n",
            "\n",
            "For lunch I ordered the two slices of pizza and a soda special and the kids ordered the normal, chicken tenders.\n",
            "\n",
            "I heard nothing but good things about the pizza and was looking forward to it. When it came out, I was disappointed. First, its cooked in a pan the bottom of the crust was the texture of the pan. Second, it seems like their oven isn't hot enough because the crust wasn't that nice crispy almost burned brown that I love. Overall, the pizza was just meh. Nothing special and nothing deserving of such high praise. \n",
            "\n",
            "On a positive note, I have had their chicken wings when someone got take out from there and they were pretty tasty\n",
            "\n",
            "This place is usually very busy and serves typical bar food. It seems like it fits the need of the people in the neighborhood. They seem to have a big local following.\n",
            "\n",
            "As far as pizza goes, I would go to Sunset Pizza which isn't far from there, they make very good pizza.                                                                                                                                                                                                                                                                                                                                                                                                                                                                                                                                                                                                                                                                                                                                                                                                                                                                                                                                                                                                                                                                                                                                                                                                                                                                                                                                                                                                                                                                                                                                                                                                                                                                                                                                                                                                                                                                                                                                                                                                                                                                                                                                                                                                                                                                                                                                                                                                                                                                                                                                                                                                                                                                                                                                                                                                                                                               |0.9990290163778877|3.3804345679180783E-4|3.0730486600755717E-4|3.2563529931304544E-4|\n",
            "|Reviewing just the casino. And that's quite enough. \n",
            "\n",
            "Researching my trip to death, a common theme was to check out \"the places where the locals go\". Promises of loose slots, friendlier dealers, food deals, lower table minimums, etc. \n",
            "\n",
            "Mrs. H. and I were just driving around, took the left off of LVB onto Sahara, and bumped into Palace Station. \n",
            "\n",
            "Me: \"Oh yeah!....,these are the joints I've been hearing about! These are the hidden gems that the locals go to!\".\n",
            "\n",
            "Mrs. H: \"ummmmm...ok\"\n",
            "\n",
            "The breakdown: Stinky and smelly. Hard to imagine eating there, so it went no further than my imagination. There's signs everywhere for Louie Anderson. I just want to write him, give him 5 or 10 bucks, and tell him that I know things aren't great right now, but you don't need the work this bad...stay out of this place, Louie! \n",
            "\n",
            "Dealers had kinda pissy attitudes, largely due to a couple of players that were probably forced to leave the shelter in the daytime because that's when you're supposed to be looking for jobs. My luck, my mood, and the dealer's moods, seemed to be affected by this. \n",
            "\n",
            "Meantime, Mrs. H. was working her slot magic and stayed sort of even, but I don't know if this means we can vouch for loose slots or not. I can, however, vouch for the odor of mildewy, paneled, shag carpeted, nicotine stained rec room, though. \n",
            "\n",
            "We went along on our way, back onto Sahara, then further south, where we found my new love, the Silverton Lodge. That's another review. But for now, happy friggin trails, Palace Station.                                                                                                                                                                                                                                                                                                                                                                                                                                                                                                                                                                                                                                                                                                                                                                                                                                                                                                                                                                                                                                                                                                                                                                                                                                                                                                                                                                                                                                                                                                                                                                                                                                                                                                                                                                                                                                                                                                                                                                                                                                                                                                                                                                                                                                                                                                                                                                                                                                                                                                                                                                                                                                                                                                                                                                                                                                                                                                                                                                                                                                                                                                                                                                                                                                                                                                                                                                                               |0.9990232514108429|3.352190035487454E-4 |3.1600744509129036E-4|3.2552214051689116E-4|\n",
            "|Decent, cheap, average food in the entertainment district.\n",
            "\n",
            "I came in here on a Saturday during lunch hours and the place was surprisingly not packed. Mostly students, actually. \n",
            "\n",
            "You have to order at the counter, and then they bring you your food. The woman at the counter was arguing with one of the cooks and seemed annoyed with me, as she asked me \"what you want\" at least four times. I ordered the vegetable and tofu soup in vegetable broth. The food was prepared almost frighteningly fast, but being as hungry as I was, this didn't bother me very much.\n",
            "\n",
            "I was surprised to see a heaping pile of actual vegetables atop the bowl of steaming hot noodles and broth! Broccoli, onions, red peppers, green beans, and bean sprouts, to be exact. The rice noodles were tender and delicious, and the cook on the vegetables was quite well done, too (not too soft and mushy). The tofu were chunky and most likely deep fried pieces, but soaked up the broth quite heartily.\n",
            "\n",
            "Although I enjoyed the size and portion of the bowl, I feel that the broth may have been just a bit too salty. I don't want to confirm this because I am quite accustomed to eating mostly low salt/salt free, but it did seem very sodium and MSG laden. I also didn't taste any significant seasoning in the broth besides salt, so it's quite possible that I was eating salty hot water with noodles. Hmm.\n",
            "\n",
            "I don't think I would recommend this place to many people. There are so many better places in the area for Asian food (although I'm not sure specifically about Vietnamese food) and they have surprisingly few options for pho which was disappointing. Will probably not return and opt for miso and tofu soup nearby at one of the many Japanese establishments near by. You live and you learn.                                                                                                                                                                                                                                                                                                                                                                                                                                                                                                                                                                                                                                                                                                                                                                                                                                                                                                                                                                                                                                                                                                                                                                                                                                                                                                                                                                                                                                                                                                                                                                                                                                                                                                                                                                                                                                                                                                                                                                                                                                                                                                                                                                                                                                                                                                                                                                                                                                                                                                                                                                                                                                                                                                                                                                                                                                                                                                                                                                                                                                                                                                                                                  |0.9990103040482889|3.4483171481383674E-4|3.1499390894196614E-4|3.2987032795521405E-4|\n",
            "+---------------------------------------------------------------------------------------------------------------------------------------------------------------------------------------------------------------------------------------------------------------------------------------------------------------------------------------------------------------------------------------------------------------------------------------------------------------------------------------------------------------------------------------------------------------------------------------------------------------------------------------------------------------------------------------------------------------------------------------------------------------------------------------------------------------------------------------------------------------------------------------------------------------------------------------------------------------------------------------------------------------------------------------------------------------------------------------------------------------------------------------------------------------------------------------------------------------------------------------------------------------------------------------------------------------------------------------------------------------------------------------------------------------------------------------------------------------------------------------------------------------------------------------------------------------------------------------------------------------------------------------------------------------------------------------------------------------------------------------------------------------------------------------------------------------------------------------------------------------------------------------------------------------------------------------------------------------------------------------------------------------------------------------------------------------------------------------------------------------------------------------------------------------------------------------------------------------------------------------------------------------------------------------------------------------------------------------------------------------------------------------------------------------------------------------------------------------------------------------------------------------------------------------------------------------------------------------------------------------------------------------------------------------------------------------------------------------------------------------------------------------------------------------------------------------------------------------------------------------------------------------------------------------------------------------------------------------------------------------------------------------------------------------------------------------------------------------------------------------------------------------------------------------------------------------------------------------------------------------------------------------------------------------------------------------------------------------------------------------------------------------------------------------------------------------------------------------------------------------------------------------------------------------------------------------------------------------------------------------------------------------------------------------------------------------------------------------------------------------------------------------------------------------------------------------------------------------------------------------------------------------------------------------------------------------------------------------------------------------------------------------------------------------------------------------------------------------------------------------------------------------------------------------------------------------------------------------------------------------------------------------------------------------------------------------------------------------------------------------------------------------------------------------------------------------------------------------------------------------------------------------------------------------------------------------------------------------------------------------------------------------------------------------------------------------------------------------------------------------------------------------------------------------------------------------------------------------------------------------------------------------------------------------------------------------------------------------------------+------------------+---------------------+---------------------+---------------------+\n",
            "only showing top 20 rows\n",
            "\n"
          ],
          "name": "stdout"
        }
      ]
    }
  ]
}